{
 "cells": [
  {
   "cell_type": "markdown",
   "metadata": {},
   "source": [
    "**1. What does Pandas stand for?**\n",
    "*An open source Python package.*"
   ]
  },
  {
   "cell_type": "markdown",
   "metadata": {},
   "source": [
    "**2. What are the 2 collections used in Pandas?**\n",
    "*Panel Data*\n",
    "*Python Data Analysis*"
   ]
  },
  {
   "cell_type": "markdown",
   "metadata": {},
   "source": [
    "**3. Name 4 things Pandas can do for us.**\n",
    "*Data Cleansing,*\n",
    "*Data normalization,*\n",
    "*Data visualization,*\n",
    "*Data inspection*"
   ]
  },
  {
   "cell_type": "markdown",
   "metadata": {},
   "source": [
    "**4. To permanently sort a DataFrame, which keyword should one use with the df.sort() method?**\n",
    "*True*"
   ]
  },
  {
   "cell_type": "markdown",
   "metadata": {},
   "source": [
    "**5. What is a CSV?**\n",
    "*Comma Seperated Value file*"
   ]
  },
  {
   "cell_type": "markdown",
   "metadata": {},
   "source": [
    "**6. When cleaning data what values do we not like in our data?**\n",
    "*blank or null fields*"
   ]
  },
  {
   "cell_type": "code",
   "execution_count": 48,
   "metadata": {},
   "outputs": [
    {
     "name": "stdout",
     "output_type": "stream",
     "text": [
      "[[[1 2]\n",
      "  [3 7]\n",
      "  [8 9]]]\n"
     ]
    }
   ],
   "source": [
    "#Coding Exercise\n",
    "#Question 7\n",
    "\n",
    "import numpy as np\n",
    "\n",
    "a = np.array([[1,2,3],\n",
    "             [7,8,9]])\n",
    "#print(a)\n",
    "\n",
    "#reshaped above array\n",
    "c = a.reshape(1,3,2)\n",
    "print(c)\n",
    "\n"
   ]
  },
  {
   "cell_type": "code",
   "execution_count": 27,
   "metadata": {},
   "outputs": [
    {
     "name": "stdout",
     "output_type": "stream",
     "text": [
      "[ 0.  4.  8. 12. 16. 20.]\n"
     ]
    }
   ],
   "source": [
    "#Coding Exercise\n",
    "#Question 8\n",
    "\n",
    "import numpy as np\n",
    "\n",
    "#create an array with 6 linearly spaced values between 0 and 20, use .linspace\n",
    "c = np.linspace(0, 20, num=6)\n",
    "print(c)\n"
   ]
  },
  {
   "cell_type": "code",
   "execution_count": 34,
   "metadata": {},
   "outputs": [
    {
     "name": "stdout",
     "output_type": "stream",
     "text": [
      "[ 0  1  2  3  4  5  6  7  8  9 10 11 12 13 14 15 16 17 18 19 20]\n",
      "[ 0  1  2  3  4  5  6  7  8  9 10 11 12 13 14 15 16 17 18 19 20]\n"
     ]
    }
   ],
   "source": [
    "#Coding Exercise\n",
    "#Question 9\n",
    "import copy\n",
    "\n",
    "#above array\n",
    "c = np.array(range(0, 21))\n",
    "print(c)\n",
    "\n",
    "#Deep copy of above array\n",
    "d = copy.deepcopy(c)\n",
    "print(d)\n"
   ]
  },
  {
   "cell_type": "code",
   "execution_count": 51,
   "metadata": {},
   "outputs": [
    {
     "name": "stdout",
     "output_type": "stream",
     "text": [
      "[[25 16]\n",
      " [11  2]\n",
      " [13  4]\n",
      " [ 7 81]\n",
      " [ 5  6]\n",
      " [11 12]]\n"
     ]
    }
   ],
   "source": [
    "#Coding Exercise\n",
    "#Question 10\n",
    "import numpy as np\n",
    "\n",
    "#concatenate these 3 arrays\n",
    "a = ([[25, 16]])\n",
    "b = ([[11, 2], [13, 4]])\n",
    "c = ([[7, 81], [5, 6], [11, 12]])\n",
    "\n",
    "\n",
    "#concatenated the above arrays\n",
    "newArray = np.concatenate((a,b,c),axis=0)\n",
    "print(newArray)\n"
   ]
  },
  {
   "cell_type": "code",
   "execution_count": 52,
   "metadata": {},
   "outputs": [
    {
     "name": "stdout",
     "output_type": "stream",
     "text": [
      "[[16 25]\n",
      " [ 2 11]\n",
      " [ 4 13]\n",
      " [ 7 81]\n",
      " [ 5  6]\n",
      " [11 12]]\n"
     ]
    }
   ],
   "source": [
    "#Coding Exercise\n",
    "#Question 11\n",
    "\n",
    "# Sort newArray in order into sortedArray\n",
    "\n",
    "sortArray = np.sort(newArray)\n",
    "print(sortArray)"
   ]
  },
  {
   "cell_type": "code",
   "execution_count": 59,
   "metadata": {},
   "outputs": [
    {
     "name": "stdout",
     "output_type": "stream",
     "text": [
      "Tuple 1 [16 25  2]\n",
      "Tupl 2 [11  4 13]\n",
      "Tuple 3 [ 7 81  5]\n",
      "Tuple 4 [ 6 11 12]\n"
     ]
    }
   ],
   "source": [
    "#Coding Exercise\n",
    "#Question 12\n",
    "# Unpack the array tuples from the above 'reshapedArray' into 4 well named variables. Print the 4 variables.\n",
    "new = sortArray.reshape(4,3)\n",
    "#print(new)\n",
    "\n",
    "#unpacked into 4 variables\n",
    "l,m,n,o = new\n",
    "\n",
    "\n",
    "\n",
    "print(\"Tuple 1\", l)\n",
    "print(\"Tupl 2\", m)\n",
    "print(\"Tuple 3\", n)\n",
    "print(\"Tuple 4\", o)\n",
    "\n",
    "\n"
   ]
  },
  {
   "cell_type": "code",
   "execution_count": 16,
   "metadata": {},
   "outputs": [
    {
     "name": "stdout",
     "output_type": "stream",
     "text": [
      "[10 11 12 13 14 15 16 17 20 21 22 23 24 25 26 27  0  1  2  3  4  5  6  7]\n",
      "[ 0  1  2  3  4  5  6  7 10 11 12 13 14 15 16 17 20 21 22 23 24 25 26 27]\n"
     ]
    }
   ],
   "source": [
    "#Coding Exercise\n",
    "#Question 13\n",
    "import numpy as np\n",
    "\n",
    "one = ([10, 11, 12, 13, 14, 15, 16, 17])\n",
    "two = ([20, 21, 22, 23, 24, 25, 26, 27])\n",
    "three = ([ 0, 1, 2, 3, 4, 5, 6, 7])\n",
    "\n",
    "#Combining the 3 above arrays\n",
    "conArray = np.concatenate((one,two,three), axis=0)\n",
    "print(conArray)\n",
    "\n",
    "#Sorted combined array\n",
    "comboArray = np.sort(conArray)\n",
    "print(comboArray)\n"
   ]
  },
  {
   "cell_type": "code",
   "execution_count": 51,
   "metadata": {},
   "outputs": [
    {
     "name": "stdout",
     "output_type": "stream",
     "text": [
      "1\n",
      "[ 2  3  4  5  6  7 10 11 12 13 14 15 16 17 20 21 22 23 24 25 26 27]\n",
      "[ 3  4  5  6  7 10 11 12 13 14 15 16]\n",
      "[22 23 24 25 26 27]\n",
      "[ 0  1  2  3  4  5  6  7 10 11 12 13 14 15]\n",
      "[20 22 24 26]\n",
      "[]\n"
     ]
    }
   ],
   "source": [
    "#Coding Exercise\n",
    "#Question 14\n",
    "\n",
    "\n",
    "#print sec1 - the 2nd element\n",
    "print(comboArray[1])\n",
    "\n",
    "#print sec2 - all elements from the 3rd element to the last\n",
    "print(comboArray[2:])\n",
    "\n",
    "#print sec3 - all elements from the 4th to the 14th elements\n",
    "print(comboArray[3:15])\n",
    "\n",
    "#print sec4 - the last 6 elements\n",
    "print(comboArray[-6:])\n",
    "\n",
    "#print sec5 - all element from #0 up to and including #15, using the negative number method, i.e. taking a section from the end.\n",
    "print(comboArray[-24:-10])\n",
    "\n",
    "#print sec6 - from #20 every even element to the end\n",
    "print(comboArray[16::2])\n",
    "\n",
    "#print sec7 - from the last element moving forward, every 5th element.\n",
    "print(comboArray[25::5]) #Not clear if moving foward is toward 0...\n"
   ]
  },
  {
   "cell_type": "code",
   "execution_count": 12,
   "metadata": {},
   "outputs": [
    {
     "name": "stdout",
     "output_type": "stream",
     "text": [
      "  Ingredients  Quanitity   Unit\n",
      "0       FLour          4   cups\n",
      "1        Milk          1    cup\n",
      "2        Eggs          2  large\n",
      "3        Spam          1    can \n",
      " Name: Dinner, dtype:object\n"
     ]
    }
   ],
   "source": [
    "#Coding Exercise\n",
    "#Question 15\n",
    "\n",
    "import pandas as pd\n",
    "\n",
    "#used series\n",
    "ingredients = pd.Series([\"FLour\",\"Milk\",\"Eggs\",\"Spam\"], name='Ingredients')\n",
    "quantity = pd.Series([4, 1, 2, 1], name='Quanitity')\n",
    "unit = pd.Series([\"cups\", \"cup\", \"large\", \"can\"], name='Unit')\n",
    "\n",
    "#print(ingredients)\n",
    "#print(quantity)\n",
    "#print(unit)\n",
    "\n",
    "#created DataFrame\n",
    "df = pd.DataFrame(ingredients).join(quantity).join(unit)\n",
    "print(df,\"\\n Name: Dinner, dtype:object\")\n",
    "\n",
    "\n"
   ]
  },
  {
   "cell_type": "code",
   "execution_count": 13,
   "metadata": {},
   "outputs": [
    {
     "name": "stdout",
     "output_type": "stream",
     "text": [
      "Students Data \n",
      "       Name  Height Qualification  address  Age        Pets           sport\n",
      "0      Jai     5.1           Msc    Delhi   21         Dog           Darts\n",
      "1  janusha     6.2            MA     Doha   23       Bunny      Basketball\n",
      "2   Gaurav     5.1           Msc  Chennai   24  Chinchilla  PaddleBoarding\n",
      "3     Anuj     5.2           Msc   Dakhar   21      Parrot         Cricket\n"
     ]
    }
   ],
   "source": [
    "#Coding Exercise\n",
    "#Question 16\n",
    "import pandas as pd\n",
    "\n",
    "#data\n",
    "info = {\n",
    "    'Name': ['Jai', 'janusha', 'Gaurav', 'Anuj'],\n",
    "        'Height': [5.1, 6.2, 5.1, 5.2],\n",
    "        'Qualification': ['Msc', 'MA', 'Msc', 'Msc'],\n",
    "        'address': ['Delhi', 'Doha', 'Chennai', 'Dakhar'],\n",
    "        'Age': [21, 23, 24, 21],\n",
    "        'Pets': ['Dog', 'Bunny', 'Chinchilla', 'Parrot'],\n",
    "        'sport': ['Darts', 'Basketball', 'PaddleBoarding', 'Cricket']\n",
    "    }\n",
    "\n",
    "#created DataFrame\n",
    "studentData = pd.DataFrame(info)\n",
    "print(\"Students Data \\n\", studentData)"
   ]
  },
  {
   "cell_type": "code",
   "execution_count": 14,
   "metadata": {},
   "outputs": [
    {
     "name": "stdout",
     "output_type": "stream",
     "text": [
      "      Name  Height Qualification  address  Age        Pets           sport  \\\n",
      "0      Jai     5.1           Msc    Delhi   21         Dog           Darts   \n",
      "1  janusha     6.2            MA     Doha   23       Bunny      Basketball   \n",
      "2   Gaurav     5.1           Msc  Chennai   24  Chinchilla  PaddleBoarding   \n",
      "3     Anuj     5.2           Msc   Dakhar   21      Parrot         Cricket   \n",
      "\n",
      "        Deserts  \n",
      "0     ice cream  \n",
      "1  Cashew Fudge  \n",
      "2       waffels  \n",
      "3  Carrot Halwa  \n"
     ]
    }
   ],
   "source": [
    "#Coding Exercise\n",
    "#Question 17\n",
    "\n",
    "#new column\n",
    "deserts = pd.Series([\"ice cream\", \"Cashew Fudge\", \"waffels\", \"Carrot Halwa\"], name='Deserts')\n",
    "\n",
    "#new column added to DataFrame\n",
    "studentData_update = pd.DataFrame(studentData).join(deserts)\n",
    "\n",
    "print(studentData_update)"
   ]
  },
  {
   "cell_type": "code",
   "execution_count": 17,
   "metadata": {},
   "outputs": [
    {
     "name": "stdout",
     "output_type": "stream",
     "text": [
      "      Name  Height Qualification  address  Age        Pets           sport  \\\n",
      "3     Anuj     5.2           Msc   Dakhar   21      Parrot         Cricket   \n",
      "2   Gaurav     5.1           Msc  Chennai   24  Chinchilla  PaddleBoarding   \n",
      "0      Jai     5.1           Msc    Delhi   21         Dog           Darts   \n",
      "1  janusha     6.2            MA     Doha   23       Bunny      Basketball   \n",
      "\n",
      "        Deserts  \n",
      "3  Carrot Halwa  \n",
      "2       waffels  \n",
      "0     ice cream  \n",
      "1  Cashew Fudge  \n",
      "      Name  Height Qualification  address  Age        Pets           sport  \\\n",
      "2   Gaurav     5.1           Msc  Chennai   24  Chinchilla  PaddleBoarding   \n",
      "3     Anuj     5.2           Msc   Dakhar   21      Parrot         Cricket   \n",
      "0      Jai     5.1           Msc    Delhi   21         Dog           Darts   \n",
      "1  janusha     6.2            MA     Doha   23       Bunny      Basketball   \n",
      "\n",
      "        Deserts  \n",
      "2       waffels  \n",
      "3  Carrot Halwa  \n",
      "0     ice cream  \n",
      "1  Cashew Fudge  \n"
     ]
    }
   ],
   "source": [
    "#Coding Exercise\n",
    "#Question 18\n",
    "\n",
    "#sort by colmn Name\n",
    "studentData_update.sort_values(by = ['Name'], inplace=True)\n",
    "print(studentData_update)\n",
    "\n",
    "#sort by column address\n",
    "studentData_update.sort_values(by = ['address'], inplace=True)\n",
    "print(studentData_update)\n",
    "\n",
    "\n"
   ]
  },
  {
   "cell_type": "code",
   "execution_count": 21,
   "metadata": {},
   "outputs": [
    {
     "name": "stdout",
     "output_type": "stream",
     "text": [
      "Empty DataFrame\n",
      "Columns: [df = pd.DataFrame({'Cows': [12, 20], 'Goats': [22, 19]}, index=['Year 1', 'Year 2']), Unnamed: 1, Unnamed: 2, Unnamed: 3, Unnamed: 4, Unnamed: 5, Unnamed: 6, Unnamed: 7, Unnamed: 8, Unnamed: 9, Unnamed: 10]\n",
      "Index: []\n"
     ]
    }
   ],
   "source": [
    "#Coding Exercise\n",
    "#Question 19\n",
    "\n",
    "import pandas as pd\n",
    "\n",
    "#saved DataFrame with specified name\n",
    "csv = pd.read_csv('/Users/calamese3/code/SavvyCoders/Homework/cows_and_goats.csv')\n",
    "print(csv)"
   ]
  },
  {
   "cell_type": "code",
   "execution_count": 40,
   "metadata": {},
   "outputs": [],
   "source": [
    "#Coding Exercise\n",
    "#Question 20\n",
    "\n",
    "#Using Pandas, make your own .CSV file with data on vegetables and save it. \n",
    "import pandas as pd\n",
    "\n",
    "#Created .csv file\n",
    "veg = pd.DataFrame([[\"Spinach\", \"Leafy Green\"], [\"Cabbage\", \"Cruciferous\" ], [\"Squash\", \"Marrow\"]], \n",
    "                   columns=[\"Vegetables\", \"Vegetable Type\"])\n",
    "veg\n",
    "\n",
    "#Saved created .csv file\n",
    "veg.to_csv('vegetable_data.csv')\n",
    "\n",
    "#veg = pd.read_csv('vegetable_data.csv')\n",
    "#print(veg)\n",
    "\n",
    "\n"
   ]
  },
  {
   "cell_type": "code",
   "execution_count": 42,
   "metadata": {},
   "outputs": [
    {
     "name": "stdout",
     "output_type": "stream",
     "text": [
      "  Vegetables Vegetable Type\n",
      "0    Spinach    Leafy Green\n",
      "1    Cabbage    Cruciferous\n",
      "2     Squash         Marrow\n"
     ]
    }
   ],
   "source": [
    "#Coding Exercise\n",
    "#Question 20\n",
    "#Using Pandas, make a change to your CSV file, and save a copy with a different name.\n",
    "\n",
    "#change to .csv file using Pandas and saved copy with new name.\n",
    "veg.to_csv('vegetable_update.csv', index=False)\n",
    "veg = pd.read_csv('vegetable_update.csv') \n",
    "\n",
    "\n",
    "print(veg)\n"
   ]
  }
 ],
 "metadata": {
  "kernelspec": {
   "display_name": "Python 3",
   "language": "python",
   "name": "python3"
  },
  "language_info": {
   "codemirror_mode": {
    "name": "ipython",
    "version": 3
   },
   "file_extension": ".py",
   "mimetype": "text/x-python",
   "name": "python",
   "nbconvert_exporter": "python",
   "pygments_lexer": "ipython3",
   "version": "3.11.4"
  },
  "orig_nbformat": 4
 },
 "nbformat": 4,
 "nbformat_minor": 2
}
