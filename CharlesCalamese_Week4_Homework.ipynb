{
 "cells": [
  {
   "cell_type": "markdown",
   "metadata": {},
   "source": [
    "### 1. What does one need to do to use a module?\n",
    "### Import the module into the code-base by using the import statement.\n",
    "\n"
   ]
  },
  {
   "cell_type": "markdown",
   "metadata": {},
   "source": [
    "### 2. Name a Module (not the DateTime Nodule) we looked at and write a line or 2 of code as an example using this module.\n",
    "## import math\n",
    "### print(math.ceil(9.99))\n"
   ]
  },
  {
   "cell_type": "markdown",
   "metadata": {},
   "source": [
    "\n",
    "### 3. What is a benefit of using Exception handling?\n",
    "### It allows you to test a block of code for errors. \n"
   ]
  },
  {
   "cell_type": "markdown",
   "metadata": {},
   "source": [
    "\n",
    "### 4. What are the 4 components used for Python Exception Handling?\n",
    "### try, except, else, finally\n"
   ]
  },
  {
   "cell_type": "markdown",
   "metadata": {},
   "source": [
    "\n",
    "### 5. NumPy arrays are like what Python data type?\n",
    "### Numpy arrays are like Python List.\n"
   ]
  },
  {
   "cell_type": "markdown",
   "metadata": {},
   "source": [
    "\n",
    "### 6. What is one of the main benefits of using NumPy arrays?\n",
    "### Occupy less memory.\n"
   ]
  },
  {
   "cell_type": "markdown",
   "metadata": {},
   "source": [
    "\n",
    "### 7. What is one of the main requirements about the 'dtype' of NumPy arrays?\n",
    "### Specify which data type you want to use.\n"
   ]
  },
  {
   "cell_type": "markdown",
   "metadata": {},
   "source": [
    "\n",
    "### 8. Of the 10 uses of NumPy, name 2\n",
    "### Broadcatsing and Linear Algebra\n"
   ]
  },
  {
   "cell_type": "markdown",
   "metadata": {},
   "source": [
    "\n",
    "### 9. Name one of the other libraries we'll use with NumPy?\n",
    "### Pandas\n"
   ]
  },
  {
   "cell_type": "markdown",
   "metadata": {},
   "source": [
    "\n",
    "## 10. What is the shape of NumPy arrays?\n",
    "## The shape is by dimensions, length (rows) and size (columns). A tuple of non-negative integers.\n"
   ]
  },
  {
   "cell_type": "markdown",
   "metadata": {},
   "source": [
    "\n",
    "### 11. What is a Tensor?\n",
    "### An array with 3+ dimensions.\n"
   ]
  },
  {
   "cell_type": "markdown",
   "metadata": {},
   "source": [
    "\n",
    "### 12. Name a reason why it's better using NumPy for Data Analysis than using a Python List?\n",
    "### Fast\n"
   ]
  },
  {
   "cell_type": "markdown",
   "metadata": {},
   "source": [
    "\n",
    "### 13.When creating an \"empty\" array, where do the elements come from?\n",
    "### Depends on whatever happens to be in the memory allocted for the array."
   ]
  },
  {
   "cell_type": "code",
   "execution_count": 18,
   "metadata": {},
   "outputs": [
    {
     "name": "stdout",
     "output_type": "stream",
     "text": [
      "Renting a car is very expensive\n"
     ]
    }
   ],
   "source": [
    "# Flow Control Methods\n",
    "#Question 1\n",
    "age = int(input(\"Enter your age:\"))\n",
    "age_limit = 25\n",
    "\n",
    "if age >= age_limit:\n",
    "    print(\"Renting a car is more affordable\")\n",
    "else:\n",
    "    print(\"Renting a car is very expensive\")\n"
   ]
  },
  {
   "cell_type": "code",
   "execution_count": 19,
   "metadata": {},
   "outputs": [
    {
     "name": "stdout",
     "output_type": "stream",
     "text": [
      "Renting a car is very expensive\n"
     ]
    }
   ],
   "source": [
    "# Flow Control Methods\n",
    "#Question 2\n",
    "age = int(input(\"Enter your age:\"))\n",
    "\n",
    "\n",
    "if age >= 25:\n",
    "    print(\"Renting a car is more affordable\")\n",
    "else:\n",
    "    if age >= 18:\n",
    "        print(\"Renting a car is very expensive\")\n",
    "    else:\n",
    "        if age <18:\n",
    "            print(\"You cannot legally rent a car\")\n",
    "     \n",
    "\n"
   ]
  },
  {
   "cell_type": "code",
   "execution_count": 4,
   "metadata": {},
   "outputs": [
    {
     "name": "stdout",
     "output_type": "stream",
     "text": [
      "35\n",
      "e u i o o u o e e a o "
     ]
    }
   ],
   "source": [
    "# Flow Control Methods\n",
    "#Question 3\n",
    "a = \"The quick brown fox jumps over the lazy dog\"\n",
    "b = 0\n",
    "for char in a :\n",
    "    if char != \" \":\n",
    "        b += 1\n",
    "print(b)\n",
    "       \n",
    "v = \"AEIOUaeiou\"\n",
    "for char in a:\n",
    "    if char in v:\n",
    "        print(char, end = \" \")"
   ]
  },
  {
   "cell_type": "code",
   "execution_count": 29,
   "metadata": {},
   "outputs": [
    {
     "name": "stdout",
     "output_type": "stream",
     "text": [
      "trousers auburn\n",
      "trousers fuchsia\n",
      "trousers gunmetal blue\n",
      "trousers burnt sienna\n",
      "trousers cerise\n",
      "trousers aqua\n",
      "trousers Dark Sapphire\n",
      "trousers maple\n",
      "blouse auburn\n",
      "blouse fuchsia\n",
      "blouse gunmetal blue\n",
      "blouse burnt sienna\n",
      "blouse cerise\n",
      "blouse aqua\n",
      "blouse Dark Sapphire\n",
      "blouse maple\n",
      "bandana auburn\n",
      "bandana fuchsia\n",
      "bandana gunmetal blue\n",
      "bandana burnt sienna\n",
      "bandana cerise\n",
      "bandana aqua\n",
      "bandana Dark Sapphire\n",
      "bandana maple\n",
      "cumber band auburn\n",
      "cumber band fuchsia\n",
      "cumber band gunmetal blue\n",
      "cumber band burnt sienna\n",
      "cumber band cerise\n",
      "cumber band aqua\n",
      "cumber band Dark Sapphire\n",
      "cumber band maple\n",
      "blazer auburn\n",
      "blazer fuchsia\n",
      "blazer gunmetal blue\n",
      "blazer burnt sienna\n",
      "blazer cerise\n",
      "blazer aqua\n",
      "blazer Dark Sapphire\n",
      "blazer maple\n",
      "vest auburn\n",
      "vest fuchsia\n",
      "vest gunmetal blue\n",
      "vest burnt sienna\n",
      "vest cerise\n",
      "vest aqua\n",
      "vest Dark Sapphire\n",
      "vest maple\n",
      "french beret auburn\n",
      "french beret fuchsia\n",
      "french beret gunmetal blue\n",
      "french beret burnt sienna\n",
      "french beret cerise\n",
      "french beret aqua\n",
      "french beret Dark Sapphire\n",
      "french beret maple\n",
      "scarf auburn\n",
      "scarf fuchsia\n",
      "scarf gunmetal blue\n",
      "scarf burnt sienna\n",
      "scarf cerise\n",
      "scarf aqua\n",
      "scarf Dark Sapphire\n",
      "scarf maple\n",
      "stole auburn\n",
      "stole fuchsia\n",
      "stole gunmetal blue\n",
      "stole burnt sienna\n",
      "stole cerise\n",
      "stole aqua\n",
      "stole Dark Sapphire\n",
      "stole maple\n"
     ]
    }
   ],
   "source": [
    "# Flow Control Methods\n",
    "#Question 4\n",
    "\n",
    "couture = [\"trousers\", \"blouse\", \"bandana\", \"cumber band\", \"blazer\", \"vest\", \"french beret\", \"scarf\", \"stole\"]\n",
    "panettone = {\"cerise\", \"fuchsia\", \"aqua\", \"maple\", \"auburn\", \"burnt sienna\", \"gunmetal blue\", \"Dark Sapphire\"}\n",
    "\n",
    "for x in couture:\n",
    "    for y in panettone:\n",
    "        print(x,y)\n"
   ]
  },
  {
   "cell_type": "code",
   "execution_count": 8,
   "metadata": {},
   "outputs": [
    {
     "name": "stdout",
     "output_type": "stream",
     "text": [
      "5050\n"
     ]
    }
   ],
   "source": [
    "# Flow Control Methods\n",
    "#Question 5\n",
    "\n",
    "n = 0\n",
    "\n",
    "for m in range(1, 101):\n",
    "    n += m\n",
    "\n",
    "print(n)\n",
    "\n",
    "        \n",
    "        \n",
    "\n"
   ]
  },
  {
   "cell_type": "code",
   "execution_count": 72,
   "metadata": {},
   "outputs": [
    {
     "name": "stdout",
     "output_type": "stream",
     "text": [
      "banana\n"
     ]
    }
   ],
   "source": [
    "# Flow Control Methods\n",
    "#Question 6\n",
    "\n",
    "a = [\"apple\", \"banana\", \"cherry\"]\n",
    "print(a[1])"
   ]
  },
  {
   "cell_type": "code",
   "execution_count": 5,
   "metadata": {},
   "outputs": [
    {
     "name": "stdout",
     "output_type": "stream",
     "text": [
      "['apple', 'kiwi', 'cherry']\n"
     ]
    }
   ],
   "source": [
    "# Flow Control Methods\n",
    "#Question 7\n",
    "\n",
    "a = [\"apple\", \"banana\", \"cherry\"]\n",
    "a[1] = \"kiwi\"\n",
    "print(a)\n",
    "\n"
   ]
  },
  {
   "cell_type": "code",
   "execution_count": 6,
   "metadata": {},
   "outputs": [
    {
     "name": "stdout",
     "output_type": "stream",
     "text": [
      "['apple', 'banana', 'cherry', 'orange']\n"
     ]
    }
   ],
   "source": [
    "# Flow Control Methods\n",
    "#Question 8\n",
    "\n",
    "a = [\"apple\", \"banana\", \"cherry\"]\n",
    "a.append(\"orange\")\n",
    "print(a)"
   ]
  },
  {
   "cell_type": "code",
   "execution_count": 12,
   "metadata": {},
   "outputs": [
    {
     "name": "stdout",
     "output_type": "stream",
     "text": [
      "['apple', 'lemon', 'banana', 'cherry']\n"
     ]
    }
   ],
   "source": [
    "# Flow Control Methods\n",
    "#Question 9\n",
    "\n",
    "a = [\"apple\", \"banana\", \"cherry\"]\n",
    "a.insert(1,\"lemon\")\n",
    "print(a)"
   ]
  },
  {
   "cell_type": "code",
   "execution_count": 13,
   "metadata": {},
   "outputs": [
    {
     "name": "stdout",
     "output_type": "stream",
     "text": [
      "['apple', 'cherry']\n"
     ]
    }
   ],
   "source": [
    "# Flow Control Methods\n",
    "#Question 10\n",
    "\n",
    "a = [\"apple\", \"banana\", \"cherry\"]\n",
    "a.remove(\"banana\")\n",
    "print(a)"
   ]
  },
  {
   "cell_type": "code",
   "execution_count": 16,
   "metadata": {},
   "outputs": [
    {
     "name": "stdout",
     "output_type": "stream",
     "text": [
      "['kiwi', 'melon']\n"
     ]
    }
   ],
   "source": [
    "# Flow Control Methods\n",
    "#Question 11\n",
    "\n",
    "a = [\"apple\", \"banana\", \"cherry\", \"orange\", \"kiwi\", \"melon\", \"mango\"]\n",
    "print(a[-3:-1])"
   ]
  },
  {
   "cell_type": "code",
   "execution_count": 17,
   "metadata": {},
   "outputs": [
    {
     "name": "stdout",
     "output_type": "stream",
     "text": [
      "['cherry', 'orange', 'kiwi']\n"
     ]
    }
   ],
   "source": [
    "# Flow Control Methods\n",
    "#Question 12\n",
    "\n",
    "a = [\"apple\", \"banana\", \"cherry\", \"orange\", \"kiwi\", \"melon\", \"mango\"]\n",
    "print(a[2:5])"
   ]
  },
  {
   "cell_type": "code",
   "execution_count": 18,
   "metadata": {},
   "outputs": [
    {
     "name": "stdout",
     "output_type": "stream",
     "text": [
      "7\n"
     ]
    }
   ],
   "source": [
    "# Flow Control Methods\n",
    "#Question 13\n",
    "\n",
    "a = [\"apple\", \"banana\", \"cherry\", \"orange\", \"kiwi\", \"melon\", \"mango\"]\n",
    "length_a = len(a)\n",
    "print(length_a)"
   ]
  },
  {
   "cell_type": "code",
   "execution_count": 20,
   "metadata": {},
   "outputs": [
    {
     "name": "stdout",
     "output_type": "stream",
     "text": [
      "['orange', 'melon', 'mango', 'kiwi', 'cherry', 'banana', 'apple']\n"
     ]
    }
   ],
   "source": [
    "# Flow Control Methods\n",
    "#Question 14\n",
    "\n",
    "a = [\"apple\", \"banana\", \"cherry\", \"orange\", \"kiwi\", \"melon\", \"mango\"]\n",
    "a.sort(reverse=True)\n",
    "print(a)"
   ]
  },
  {
   "cell_type": "code",
   "execution_count": 22,
   "metadata": {},
   "outputs": [
    {
     "name": "stdout",
     "output_type": "stream",
     "text": [
      "August\n"
     ]
    }
   ],
   "source": [
    "# Use a Python code file for this section\n",
    "#Question 15\n",
    "\n",
    "import datetime as dt\n",
    "a = dt.datetime.now()\n",
    "print(a.strftime(\"%B\"))\n",
    "\n"
   ]
  },
  {
   "cell_type": "code",
   "execution_count": 9,
   "metadata": {},
   "outputs": [
    {
     "name": "stdout",
     "output_type": "stream",
     "text": [
      "Hi Charles! Happy Sunday!\n",
      "Hi Charles! Happy Sunday!\n"
     ]
    }
   ],
   "source": [
    "# Use a Python code file for this section\n",
    "#Question 16\n",
    "\n",
    "\n",
    "def printinfo(first_name, day_name=\"Sunday\"):\n",
    "    print(\"Hi \" + first_name + \"! Happy \" + day_name + \"!\")\n",
    "# 2 variables\n",
    "printinfo(\"Charles\", \"Sunday\")\n",
    "# 1 variable\n",
    "printinfo(first_name=\"Charles\")\n",
    "    \n",
    "\n"
   ]
  },
  {
   "cell_type": "code",
   "execution_count": 13,
   "metadata": {},
   "outputs": [
    {
     "name": "stdout",
     "output_type": "stream",
     "text": [
      "There is an error.\n",
      "Try Again!\n"
     ]
    }
   ],
   "source": [
    "# Use a Python code file for this section\n",
    "#Question 17\n",
    "\n",
    "try:\n",
    "    print(a)\n",
    "except:\n",
    "    print(\"There is an error.\")\n",
    "finally:\n",
    "    print(\"Try Again!\")\n"
   ]
  }
 ],
 "metadata": {
  "kernelspec": {
   "display_name": "Python 3",
   "language": "python",
   "name": "python3"
  },
  "language_info": {
   "codemirror_mode": {
    "name": "ipython",
    "version": 3
   },
   "file_extension": ".py",
   "mimetype": "text/x-python",
   "name": "python",
   "nbconvert_exporter": "python",
   "pygments_lexer": "ipython3",
   "version": "3.11.4"
  },
  "orig_nbformat": 4
 },
 "nbformat": 4,
 "nbformat_minor": 2
}
