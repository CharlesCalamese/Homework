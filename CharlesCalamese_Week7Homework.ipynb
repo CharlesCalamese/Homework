{
 "cells": [
  {
   "cell_type": "markdown",
   "metadata": {},
   "source": [
    "7.1 HW Questions"
   ]
  },
  {
   "cell_type": "markdown",
   "metadata": {},
   "source": [
    "1. Using EVregistry, Write a query to select the ModelYear, Make, and Model off all of the vehicles in the registry.\n",
    "\n",
    "    #### SELECT modelyear, make, model\n",
    "    #### FROM evregistry"
   ]
  },
  {
   "cell_type": "markdown",
   "metadata": {},
   "source": [
    "2. Using the EVRegistry table, Write a query that lists all of the unique types of EV's. your reult set should have one column, ElectricVehicleType.\n",
    "\n",
    "    #### SELECT ElectricVehicleType\n",
    "    #### FROM evregistry"
   ]
  },
  {
   "cell_type": "markdown",
   "metadata": {},
   "source": [
    "3. Using the EVRegistry, Write a query that shows all of the information on Battery Electric Vehicles (BEV) that are in the registry.\n",
    "\n",
    "    #### SELECT 'battery eletric vehicles'\n",
    "    #### From EVRegistry\n"
   ]
  },
  {
   "cell_type": "markdown",
   "metadata": {},
   "source": [
    "4. Using the EVRegistry, wirte a query that returns the Make and Model of all of the EV's that have a BaseMSRP between 20000 and 35000?\n",
    "\n",
    "    #### SELECT Make, Model, BaseMSRP\n",
    "    #### FROM EVRegistry\n",
    "    #### WHERE BaseMSRP BETWEEN 20000 AND 35000"
   ]
  },
  {
   "cell_type": "markdown",
   "metadata": {},
   "source": [
    "7.2 HW Questions"
   ]
  },
  {
   "cell_type": "markdown",
   "metadata": {},
   "source": [
    "1. Using EVRegistry, write a query to find a record where the City attribute is NULL. Return all of the available columns.\n",
    "\n",
    "    #### SELECT City\n",
    "    #### FROM EVRegistry\n",
    "    #### WHERE City IS NULL;"
   ]
  },
  {
   "cell_type": "markdown",
   "metadata": {},
   "source": [
    "2. Write a query to find the make, model, and ElectricVehicleType where the VIN number has that ends in '3E1EA1J'.\n",
    "\n",
    "    #### SELECT Make, Model, ElectricVehicleType, VIN\n",
    "    #### FROM EVRegistry\n",
    "    #### WHERE VIN = '3E1EA1J%'\n",
    "\n"
   ]
  },
  {
   "cell_type": "markdown",
   "metadata": {},
   "source": [
    "3. Select the ModelYear, make, model, ElectricVehicleType, and range of the Tesla vehicles or cheverolet vehicles in the registry. Order the result set by Make and Model year in from newest to oldest.\n",
    "\n",
    "    #### SELECT ModelYear, Make, Model, ElectricVehicleType, distance\n",
    "    #### FROM EVRegistry, EVCharging\n",
    "    #### WHERE Make = 'TESLA'  OR  Make = 'CHEVEROLET'\n",
    "    #### ORDER BY Make AND ModelYear ASC"
   ]
  },
  {
   "cell_type": "markdown",
   "metadata": {},
   "source": [
    "4. Using EVCharging, Write a query to find out how many many times those stations were used. Order them by the most used to the least used and limit the output to 5 records.\n",
    "\n",
    "    ##### SELECT stationId, count(*) as 'Usage'\n",
    "    ##### FROM EVCharging\n",
    "    ##### GROUP BY stationId\n",
    "    ##### ORDER BY count(*) DESC;\n",
    "\n"
   ]
  },
  {
   "cell_type": "markdown",
   "metadata": {},
   "source": [
    "5. Using EVCharging, For the folks who charged longer than 0.5 hours, show the min and max of the charging time for each user. Your output columns should be userid, minTime, and maxTime. Order this result set by the last two columns respectively.\n",
    "\n",
    "    #### SELECT userId, MIN(chargeTimeHrs) as 'minhours', MAX(chargeTimeHrs) as 'maxHours'\n",
    "    #### FROM EVCharging\n",
    "    #### WHERE chargeTimeHrs > .5\n",
    "    #### GROUP BY userId\n",
    "    #### ORDER BY 2,3"
   ]
  },
  {
   "cell_type": "markdown",
   "metadata": {},
   "source": [
    "7.3 HW Questions"
   ]
  },
  {
   "cell_type": "markdown",
   "metadata": {},
   "source": [
    "1. Using EVCharging, Which day of the week has the highest average charging time? Round the answer to 2 decimal points.\n",
    "\n",
    "    ##### SELECT weekday, round(avg(chargeTimeHrs),2)as 'avgChargeTime'\n",
    "    ##### FROM EVCharging"
   ]
  },
  {
   "cell_type": "markdown",
   "metadata": {},
   "source": [
    "2. Using, EV charging, Find the total power consumed from charging EV's by each User. Return the userId and name the calculated column, totalPower. Round the answer to 2 deciaml points and list the out put in highest to lowest order. Limit the order to the top 15 users.\n",
    "\n",
    "    #### SELECT userId, kwhTotal as 'totalPower'\n",
    "    #### FROM EVCharging\n",
    "    #### ORDER BY userId ASC\n",
    "    #### LIMIT 15\n",
    "\n",
    "\n"
   ]
  },
  {
   "cell_type": "markdown",
   "metadata": {},
   "source": [
    "3. Using dimfacility and factCharge, write a query to find out which type of facility (GROUP BY) has the most amount of charging stations. Return type Facility and name the calculated column numStation. Order the result set from highest to lowest number of charging stations.\n",
    "\n",
    "    #### Need Assistance"
   ]
  },
  {
   "cell_type": "markdown",
   "metadata": {},
   "source": [
    "4. In your own words, Briefly explain Primary Keys and Foreign Keys.\n",
    "\n",
    "    #### Primary Key: it identifies each record in the table uniquely. They are never a null value.\n",
    "    #### Foreign Key: is the primarey key in a conncected table. It helps to prevent disconnecting the tables.\n"
   ]
  },
  {
   "cell_type": "markdown",
   "metadata": {},
   "source": [
    "5. Using EV Charging, For the folks who charged longer than one hour, show the min and max of the charging time for each user. Your output columns should be userid, minTime, and maxTime. Order this result set by the last two columns respectively. HINT: USE HAVING\n",
    "\n",
    "    #### Need Assistance"
   ]
  }
 ],
 "metadata": {
  "language_info": {
   "name": "python"
  },
  "orig_nbformat": 4
 },
 "nbformat": 4,
 "nbformat_minor": 2
}
