{
 "cells": [
  {
   "cell_type": "markdown",
   "metadata": {},
   "source": []
  },
  {
   "cell_type": "markdown",
   "metadata": {},
   "source": [
    "### Data Types\n",
    "\n",
    "1. An algorithm is a series of steps to solve a problem.\n",
    "2. Varible names may not start with a number or upper case letters.\n",
    "3. Syntax Errors are mistakes in the code like spelling, punctuation, spacing, incorrect lables.\n",
    "4. Complexity is the enemy of efficiency!\n",
    "5. FALSE, TRUE, pass, None, else\n"
   ]
  },
  {
   "cell_type": "code",
   "execution_count": 1,
   "metadata": {},
   "outputs": [
    {
     "name": "stdout",
     "output_type": "stream",
     "text": [
      "Charles Calamese\n",
      "Pizza\n",
      "I do not have a dream job.\n"
     ]
    }
   ],
   "source": [
    "my_name = \"Charles Calamese\"\n",
    "favorite_food = \"Pizza\"\n",
    "dream_job = \"I do not have a dream job.\"\n",
    "\n",
    "print(my_name)\n",
    "print(favorite_food)\n",
    "print(dream_job)"
   ]
  },
  {
   "cell_type": "code",
   "execution_count": 3,
   "metadata": {},
   "outputs": [
    {
     "name": "stdout",
     "output_type": "stream",
     "text": [
      "10\n",
      " \n"
     ]
    }
   ],
   "source": [
    "a = \"Have Faith\"\n",
    "b = 33\n",
    "c = 3.14\n",
    "d = [\"Panthers\",\"Falcons\", \"Buccaneers\", \"Saints\"]\n",
    "e = (\"Panthers\",\"Falcons\", \"Buccaneers\", \"Saints\")\n",
    "\n",
    "print(len(a))\n",
    "print(a[4])"
   ]
  },
  {
   "cell_type": "code",
   "execution_count": 18,
   "metadata": {},
   "outputs": [
    {
     "name": "stdout",
     "output_type": "stream",
     "text": [
      "ing Data Analytics \n",
      "Learning Data Analytics and Python is great!\n"
     ]
    }
   ],
   "source": [
    "savvy = \"Learning Data Analytics and Python is Awesome!\"\n",
    "print(savvy[5:24])\n",
    "\n",
    "savvy = savvy.replace(\"Awesome\", \"great\")\n",
    "print(savvy)\n"
   ]
  },
  {
   "cell_type": "code",
   "execution_count": 22,
   "metadata": {},
   "outputs": [
    {
     "name": "stdout",
     "output_type": "stream",
     "text": [
      "Hi my Charles Calamese, I am 6ft and 31 years old today.\n"
     ]
    }
   ],
   "source": [
    "name = \"Charles Calamese\"\n",
    "age = \"31\"\n",
    "length = \"6ft\"\n",
    "\n",
    "miniBio = \"Hi my \" + name + \", I am \" + length + \" and \" + age +\" years old today.\"\n",
    "print(miniBio)\n"
   ]
  },
  {
   "cell_type": "code",
   "execution_count": 28,
   "metadata": {},
   "outputs": [
    {
     "name": "stdout",
     "output_type": "stream",
     "text": [
      "6\n",
      "[3, 4]\n",
      "[1, 2, 4, 5, 9]\n",
      "[3, 4, 1, 2, 4, 5, 9]\n"
     ]
    }
   ],
   "source": [
    "a = [3, 4, \"defense\", 3.14,\"offense\"]\n",
    "a[3] = 9\n",
    "a.append(\"panthers\")\n",
    "print(len(a))\n",
    "b = a[0:2]\n",
    "print(b)\n",
    "a.extend(b)\n",
    "\n",
    "simList = [4, 2, 1, 9, 5]\n",
    "simList.sort()\n",
    "print(simList)\n",
    "\n",
    "c = simList\n",
    "d = b + c\n",
    "print(d)"
   ]
  },
  {
   "cell_type": "code",
   "execution_count": 40,
   "metadata": {},
   "outputs": [
    {
     "name": "stdout",
     "output_type": "stream",
     "text": [
      "1\n",
      "[1, 1, 1, 3, 3, 3, 4, 4, 4, 5, 5, 5, 9, 9, 9]\n",
      "(9, 3, 1, 4)\n",
      "50\n",
      "(9, 3, 1, 4, 5, 9, 3, 1, 4, 5, 9, 3, 1, 4, 5, 9, 3, 1, 4)\n"
     ]
    }
   ],
   "source": [
    "tup1 = (9,3,1,4,5)\n",
    "tup2 = tup1 * 3\n",
    "print(tup2[12])\n",
    "print(sorted(tup2))\n",
    "tup3 = tup2[0:4]\n",
    "print(tup3)\n",
    "tup4 = (50)\n",
    "print(tup4)\n",
    "tup5 = tup2 + tup3\n",
    "print(tup5)"
   ]
  },
  {
   "cell_type": "code",
   "execution_count": 62,
   "metadata": {},
   "outputs": [
    {
     "name": "stdout",
     "output_type": "stream",
     "text": [
      "{3, 5, 'apple', 9, 'pear', 'pinapple'}\n",
      "{'fooball'}\n",
      "set()\n"
     ]
    },
    {
     "ename": "TypeError",
     "evalue": "set.remove() takes exactly one argument (0 given)",
     "output_type": "error",
     "traceback": [
      "\u001b[0;31m---------------------------------------------------------------------------\u001b[0m",
      "\u001b[0;31mTypeError\u001b[0m                                 Traceback (most recent call last)",
      "Cell \u001b[0;32mIn[62], line 13\u001b[0m\n\u001b[1;32m     11\u001b[0m \u001b[39mprint\u001b[39m(a)\n\u001b[1;32m     12\u001b[0m c\u001b[39m.\u001b[39mdiscard(\u001b[39m5\u001b[39m)\n\u001b[0;32m---> 13\u001b[0m c\u001b[39m.\u001b[39;49mremove()\n\u001b[1;32m     14\u001b[0m \u001b[39mprint\u001b[39m(c)\n",
      "\u001b[0;31mTypeError\u001b[0m: set.remove() takes exactly one argument (0 given)"
     ]
    }
   ],
   "source": [
    "a = {9, 3, 5}\n",
    "aList = [\"apple\", \"pinapple\", \"pear\"]\n",
    "a.update(aList)\n",
    "print(a)\n",
    "a.add(\"Honda\")\n",
    "b = {\"fooball\", \"basketball\"}\n",
    "c = a.intersection(b)\n",
    "b.pop()\n",
    "print(b)\n",
    "a.clear()\n",
    "print(a)\n",
    "c.discard(5)\n",
    "c.remove()\n",
    "print(c)"
   ]
  },
  {
   "cell_type": "code",
   "execution_count": 106,
   "metadata": {},
   "outputs": [
    {
     "name": "stdout",
     "output_type": "stream",
     "text": [
      "Toyota\n",
      "{'brand': 'Toyota', 'year': 2023, 'name': 'Charles'}\n",
      "dict_keys(['brand', 'year', 'name', 'favorite_color', 'key1'])\n",
      "dict_values(['Toyota', 2023, 'Charles', 'Black', [1, 2]])\n",
      "{'brand': 'Toyota', 'year': 2023, 'favorite_color': 'Black', 'key1': [1, 2]}\n",
      "{}\n"
     ]
    }
   ],
   "source": [
    "a = {\n",
    "    \"brand\": \"Toyota\",\n",
    "    \"model\": \"4Runner\",\n",
    "    \"year\": 2023\n",
    "}\n",
    "\n",
    "print(a [\"brand\"])\n",
    "a.pop(\"model\")\n",
    "a.update({\"name\": \"Charles\"})\n",
    "print(a)\n",
    "a.update({\"favorite_color\": \"Black\"})\n",
    "a[\"key1\"] = [1, 2]\n",
    "print(a.keys())\n",
    "print(a.values())\n",
    "b = a.copy()\n",
    "b.pop(\"name\")\n",
    "print(b)\n",
    "b.clear()\n",
    "print(b)"
   ]
  }
 ],
 "metadata": {
  "kernelspec": {
   "display_name": "Python 3",
   "language": "python",
   "name": "python3"
  },
  "language_info": {
   "codemirror_mode": {
    "name": "ipython",
    "version": 3
   },
   "file_extension": ".py",
   "mimetype": "text/x-python",
   "name": "python",
   "nbconvert_exporter": "python",
   "pygments_lexer": "ipython3",
   "version": "3.11.4"
  },
  "orig_nbformat": 4
 },
 "nbformat": 4,
 "nbformat_minor": 2
}
